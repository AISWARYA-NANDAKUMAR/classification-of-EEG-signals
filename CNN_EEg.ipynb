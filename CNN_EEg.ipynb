{
  "nbformat": 4,
  "nbformat_minor": 0,
  "metadata": {
    "colab": {
      "name": "CNN EEg.ipynb",
      "provenance": [],
      "collapsed_sections": []
    },
    "kernelspec": {
      "name": "python3",
      "display_name": "Python 3"
    },
    "language_info": {
      "name": "python"
    }
  },
  "cells": [
    {
      "cell_type": "code",
      "metadata": {
        "colab": {
          "base_uri": "https://localhost:8080/"
        },
        "id": "Frv8iqTvL1y0",
        "outputId": "9069de45-3f29-477d-9f10-090abc94588e"
      },
      "source": [
        "#import dataset\n",
        "from google.colab import drive\n",
        "drive.mount('/content/drive')"
      ],
      "execution_count": null,
      "outputs": [
        {
          "output_type": "stream",
          "text": [
            "Mounted at /content/drive\n"
          ],
          "name": "stdout"
        }
      ]
    },
    {
      "cell_type": "code",
      "metadata": {
        "colab": {
          "base_uri": "https://localhost:8080/",
          "height": 204
        },
        "id": "AXj1jq16L76L",
        "outputId": "f5ff66bc-4c87-4aa8-d2eb-d044e3cecd10"
      },
      "source": [
        "#Loading the Dataset\n",
        "dir=f'/content/drive/MyDrive/EEG/data'\n",
        "import pandas as pd\n",
        "path = '/content/drive/MyDrive/Random forest SVM Decision trees/data.txt'\n",
        "df = pd.read_csv(path,sep=',')\n",
        "df.columns = ['0', '1', '2', '3', '4','5','6','7','8','9','10','11','12','13','target_class']\n",
        "df.head()"
      ],
      "execution_count": null,
      "outputs": [
        {
          "output_type": "execute_result",
          "data": {
            "text/html": [
              "<div>\n",
              "<style scoped>\n",
              "    .dataframe tbody tr th:only-of-type {\n",
              "        vertical-align: middle;\n",
              "    }\n",
              "\n",
              "    .dataframe tbody tr th {\n",
              "        vertical-align: top;\n",
              "    }\n",
              "\n",
              "    .dataframe thead th {\n",
              "        text-align: right;\n",
              "    }\n",
              "</style>\n",
              "<table border=\"1\" class=\"dataframe\">\n",
              "  <thead>\n",
              "    <tr style=\"text-align: right;\">\n",
              "      <th></th>\n",
              "      <th>0</th>\n",
              "      <th>1</th>\n",
              "      <th>2</th>\n",
              "      <th>3</th>\n",
              "      <th>4</th>\n",
              "      <th>5</th>\n",
              "      <th>6</th>\n",
              "      <th>7</th>\n",
              "      <th>8</th>\n",
              "      <th>9</th>\n",
              "      <th>10</th>\n",
              "      <th>11</th>\n",
              "      <th>12</th>\n",
              "      <th>13</th>\n",
              "      <th>target_class</th>\n",
              "    </tr>\n",
              "  </thead>\n",
              "  <tbody>\n",
              "    <tr>\n",
              "      <th>0</th>\n",
              "      <td>4324.62</td>\n",
              "      <td>4004.62</td>\n",
              "      <td>4293.85</td>\n",
              "      <td>4148.72</td>\n",
              "      <td>4342.05</td>\n",
              "      <td>4586.67</td>\n",
              "      <td>4097.44</td>\n",
              "      <td>4638.97</td>\n",
              "      <td>4210.77</td>\n",
              "      <td>4226.67</td>\n",
              "      <td>4207.69</td>\n",
              "      <td>4279.49</td>\n",
              "      <td>4632.82</td>\n",
              "      <td>4384.10</td>\n",
              "      <td>0</td>\n",
              "    </tr>\n",
              "    <tr>\n",
              "      <th>1</th>\n",
              "      <td>4327.69</td>\n",
              "      <td>4006.67</td>\n",
              "      <td>4295.38</td>\n",
              "      <td>4156.41</td>\n",
              "      <td>4336.92</td>\n",
              "      <td>4583.59</td>\n",
              "      <td>4096.92</td>\n",
              "      <td>4630.26</td>\n",
              "      <td>4207.69</td>\n",
              "      <td>4222.05</td>\n",
              "      <td>4206.67</td>\n",
              "      <td>4282.05</td>\n",
              "      <td>4628.72</td>\n",
              "      <td>4389.23</td>\n",
              "      <td>0</td>\n",
              "    </tr>\n",
              "    <tr>\n",
              "      <th>2</th>\n",
              "      <td>4328.72</td>\n",
              "      <td>4011.79</td>\n",
              "      <td>4296.41</td>\n",
              "      <td>4155.90</td>\n",
              "      <td>4343.59</td>\n",
              "      <td>4582.56</td>\n",
              "      <td>4097.44</td>\n",
              "      <td>4630.77</td>\n",
              "      <td>4217.44</td>\n",
              "      <td>4235.38</td>\n",
              "      <td>4210.77</td>\n",
              "      <td>4287.69</td>\n",
              "      <td>4632.31</td>\n",
              "      <td>4396.41</td>\n",
              "      <td>0</td>\n",
              "    </tr>\n",
              "    <tr>\n",
              "      <th>3</th>\n",
              "      <td>4326.15</td>\n",
              "      <td>4011.79</td>\n",
              "      <td>4292.31</td>\n",
              "      <td>4151.28</td>\n",
              "      <td>4347.69</td>\n",
              "      <td>4586.67</td>\n",
              "      <td>4095.90</td>\n",
              "      <td>4627.69</td>\n",
              "      <td>4210.77</td>\n",
              "      <td>4244.10</td>\n",
              "      <td>4212.82</td>\n",
              "      <td>4288.21</td>\n",
              "      <td>4632.82</td>\n",
              "      <td>4398.46</td>\n",
              "      <td>0</td>\n",
              "    </tr>\n",
              "    <tr>\n",
              "      <th>4</th>\n",
              "      <td>4321.03</td>\n",
              "      <td>4004.62</td>\n",
              "      <td>4284.10</td>\n",
              "      <td>4153.33</td>\n",
              "      <td>4345.64</td>\n",
              "      <td>4587.18</td>\n",
              "      <td>4093.33</td>\n",
              "      <td>4616.92</td>\n",
              "      <td>4202.56</td>\n",
              "      <td>4232.82</td>\n",
              "      <td>4209.74</td>\n",
              "      <td>4281.03</td>\n",
              "      <td>4628.21</td>\n",
              "      <td>4389.74</td>\n",
              "      <td>0</td>\n",
              "    </tr>\n",
              "  </tbody>\n",
              "</table>\n",
              "</div>"
            ],
            "text/plain": [
              "         0        1        2        3  ...       11       12       13  target_class\n",
              "0  4324.62  4004.62  4293.85  4148.72  ...  4279.49  4632.82  4384.10             0\n",
              "1  4327.69  4006.67  4295.38  4156.41  ...  4282.05  4628.72  4389.23             0\n",
              "2  4328.72  4011.79  4296.41  4155.90  ...  4287.69  4632.31  4396.41             0\n",
              "3  4326.15  4011.79  4292.31  4151.28  ...  4288.21  4632.82  4398.46             0\n",
              "4  4321.03  4004.62  4284.10  4153.33  ...  4281.03  4628.21  4389.74             0\n",
              "\n",
              "[5 rows x 15 columns]"
            ]
          },
          "metadata": {
            "tags": []
          },
          "execution_count": 5
        }
      ]
    },
    {
      "cell_type": "code",
      "metadata": {
        "colab": {
          "base_uri": "https://localhost:8080/"
        },
        "id": "AU1YXgsQL_OC",
        "outputId": "43a5bb5f-b3fb-46ef-ff07-44ac53511276"
      },
      "source": [
        "from sklearn.model_selection import train_test_split\n",
        "X=df[df.columns[0:14]].values # Features\n",
        "y = df['target_class'] # Target variable\n",
        "X_train, X_test, y_train, y_test = train_test_split(X, y, test_size=0.1) # 90% training and 10% test\n",
        "print('X_train',X_train.shape)\n",
        "print('X_test',X_test.shape)\n",
        "print('y_train',y_train.shape)\n",
        "print('y_test',y_test.shape)"
      ],
      "execution_count": null,
      "outputs": [
        {
          "output_type": "stream",
          "text": [
            "X_train (13481, 14)\n",
            "X_test (1498, 14)\n",
            "y_train (13481,)\n",
            "y_test (1498,)\n"
          ],
          "name": "stdout"
        }
      ]
    },
    {
      "cell_type": "code",
      "metadata": {
        "id": "rlinf3zCMDw0"
      },
      "source": [
        "import tensorflow as tf\n",
        "import numpy as np"
      ],
      "execution_count": null,
      "outputs": []
    },
    {
      "cell_type": "code",
      "metadata": {
        "id": "ouMdBSuvOEGH"
      },
      "source": [
        "batch_size = 256\n",
        "num_classes = 2\n",
        "epochs = 100"
      ],
      "execution_count": null,
      "outputs": []
    },
    {
      "cell_type": "code",
      "metadata": {
        "id": "pwVu32vLM-Zb"
      },
      "source": [
        "import keras\n",
        "from keras.models import Model\n",
        "from keras.models import Sequential\n",
        "from keras.layers import Convolution1D, ZeroPadding1D, MaxPooling1D, BatchNormalization, Activation, Dropout, Flatten, Dense"
      ],
      "execution_count": null,
      "outputs": []
    },
    {
      "cell_type": "code",
      "metadata": {
        "id": "Rkgq2V_8OQbf"
      },
      "source": [
        "model = Sequential()\n",
        "model.add(Convolution1D(128, kernel_size=3,padding = 'same' ,activation='relu', input_shape=(X_train.shape[1], 1)))\n",
        "model.add(BatchNormalization())\n",
        "model.add(MaxPooling1D(pool_size=(2)))\n",
        "model.add(Convolution1D(128,kernel_size=3,padding = 'same', activation='relu'))\n",
        "model.add(BatchNormalization())\n",
        "model.add(MaxPooling1D(pool_size=(2)))\n",
        "model.add(Flatten())\n",
        "model.add(Dense(64, activation='sigmoid'))\n",
        "model.add(Dropout(0.2))\n",
        "model.add(Dense(32, activation='sigmoid'))\n",
        "model.add(Dropout(0.2))\n",
        "model.add(Dense(16, activation='sigmoid'))\n"
      ],
      "execution_count": null,
      "outputs": []
    },
    {
      "cell_type": "code",
      "metadata": {
        "colab": {
          "base_uri": "https://localhost:8080/"
        },
        "id": "fEzwz9HAmDKK",
        "outputId": "785de292-425d-447f-cd11-cfa2f295ad1f"
      },
      "source": [
        "for i, layer in enumerate(model.layers):\n",
        "       layer._name = 'layer_' + str(i)\n",
        "model.summary()"
      ],
      "execution_count": null,
      "outputs": [
        {
          "output_type": "stream",
          "text": [
            "Model: \"sequential_5\"\n",
            "_________________________________________________________________\n",
            "Layer (type)                 Output Shape              Param #   \n",
            "=================================================================\n",
            "layer_0 (Conv1D)             (None, 14, 128)           512       \n",
            "_________________________________________________________________\n",
            "layer_1 (BatchNormalization) (None, 14, 128)           512       \n",
            "_________________________________________________________________\n",
            "layer_2 (MaxPooling1D)       (None, 7, 128)            0         \n",
            "_________________________________________________________________\n",
            "layer_3 (Conv1D)             (None, 7, 128)            49280     \n",
            "_________________________________________________________________\n",
            "layer_4 (BatchNormalization) (None, 7, 128)            512       \n",
            "_________________________________________________________________\n",
            "layer_5 (MaxPooling1D)       (None, 3, 128)            0         \n",
            "_________________________________________________________________\n",
            "layer_6 (Flatten)            (None, 384)               0         \n",
            "_________________________________________________________________\n",
            "layer_7 (Dense)              (None, 64)                24640     \n",
            "_________________________________________________________________\n",
            "layer_8 (Dropout)            (None, 64)                0         \n",
            "_________________________________________________________________\n",
            "layer_9 (Dense)              (None, 32)                2080      \n",
            "_________________________________________________________________\n",
            "layer_10 (Dropout)           (None, 32)                0         \n",
            "_________________________________________________________________\n",
            "layer_11 (Dense)             (None, 16)                528       \n",
            "=================================================================\n",
            "Total params: 78,064\n",
            "Trainable params: 77,552\n",
            "Non-trainable params: 512\n",
            "_________________________________________________________________\n"
          ],
          "name": "stdout"
        }
      ]
    },
    {
      "cell_type": "code",
      "metadata": {
        "colab": {
          "base_uri": "https://localhost:8080/"
        },
        "id": "4i56Ao7kmKH-",
        "outputId": "250522b0-ab10-4fff-bb38-3e4adc58017c"
      },
      "source": [
        "intermediate_layer_model = keras.Model(inputs=model.input,\n",
        "                                       outputs=model.get_layer('layer_11').output)\n",
        "X_train = np.array(X_train)\n",
        "intermediate_output = intermediate_layer_model(X_train)\n",
        "print(intermediate_output)\n",
        "print(intermediate_output.shape)"
      ],
      "execution_count": null,
      "outputs": [
        {
          "output_type": "stream",
          "text": [
            "tf.Tensor(\n",
            "[[0.68633485 0.58174586 0.64819145 ... 0.38075694 0.36830875 0.2652369 ]\n",
            " [0.68633175 0.58193654 0.6481373  ... 0.3810042  0.36835182 0.26537055]\n",
            " [0.6863795  0.5818995  0.64811456 ... 0.38097632 0.36839974 0.26538855]\n",
            " ...\n",
            " [0.68611395 0.5819288  0.6482265  ... 0.38102406 0.36827537 0.26541978]\n",
            " [0.6866405  0.58181375 0.6482034  ... 0.380522   0.3679971  0.26461017]\n",
            " [0.686268   0.5817271  0.64821357 ... 0.38076007 0.36830974 0.26527986]], shape=(13481, 16), dtype=float32)\n",
            "(13481, 16)\n"
          ],
          "name": "stdout"
        }
      ]
    },
    {
      "cell_type": "code",
      "metadata": {
        "colab": {
          "base_uri": "https://localhost:8080/"
        },
        "id": "bf0vItrZrn9X",
        "outputId": "90535694-8edf-49dd-ca82-805b71180120"
      },
      "source": [
        "intermediate_output_X_test = intermediate_layer_model(X_test)\n",
        "print(intermediate_output_test.shape)"
      ],
      "execution_count": null,
      "outputs": [
        {
          "output_type": "stream",
          "text": [
            "(1498, 16)\n",
            "(1498, 14)\n"
          ],
          "name": "stdout"
        }
      ]
    },
    {
      "cell_type": "code",
      "metadata": {
        "colab": {
          "base_uri": "https://localhost:8080/"
        },
        "id": "lwbqNO55p0w3",
        "outputId": "def1eeb3-7b76-4567-e820-eb24fba0cecc"
      },
      "source": [
        "from sklearn.svm import SVC\n",
        "svclassifier = SVC(kernel='linear')\n",
        "svclassifier.fit(intermediate_output, y_train)\n"
      ],
      "execution_count": null,
      "outputs": [
        {
          "output_type": "execute_result",
          "data": {
            "text/plain": [
              "SVC(C=1.0, break_ties=False, cache_size=200, class_weight=None, coef0=0.0,\n",
              "    decision_function_shape='ovr', degree=3, gamma='scale', kernel='linear',\n",
              "    max_iter=-1, probability=False, random_state=None, shrinking=True,\n",
              "    tol=0.001, verbose=False)"
            ]
          },
          "metadata": {
            "tags": []
          },
          "execution_count": 64
        }
      ]
    },
    {
      "cell_type": "code",
      "metadata": {
        "colab": {
          "base_uri": "https://localhost:8080/"
        },
        "id": "Lf_9YNXKOiK7",
        "outputId": "f29344db-498f-4e17-9758-22fe3d4d0677"
      },
      "source": [
        "y_pred = svclassifier.predict(intermediate_output_test)\n",
        "print(y_pred.shape)"
      ],
      "execution_count": null,
      "outputs": [
        {
          "output_type": "stream",
          "text": [
            "(1498,)\n"
          ],
          "name": "stdout"
        }
      ]
    },
    {
      "cell_type": "code",
      "metadata": {
        "id": "V94KuMR7PNbw",
        "colab": {
          "base_uri": "https://localhost:8080/"
        },
        "outputId": "2d4904a1-8def-444f-c1d5-a9eaa6db43a8"
      },
      "source": [
        "from sklearn.metrics import classification_report, confusion_matrix, accuracy_score\n",
        "print(confusion_matrix(y_test,y_pred))\n",
        "print(classification_report(y_test,y_pred))\n",
        "print(accuracy_score(y_test, y_pred))"
      ],
      "execution_count": null,
      "outputs": [
        {
          "output_type": "stream",
          "text": [
            "[[820   0]\n",
            " [678   0]]\n",
            "              precision    recall  f1-score   support\n",
            "\n",
            "           0       0.55      1.00      0.71       820\n",
            "           1       0.00      0.00      0.00       678\n",
            "\n",
            "    accuracy                           0.55      1498\n",
            "   macro avg       0.27      0.50      0.35      1498\n",
            "weighted avg       0.30      0.55      0.39      1498\n",
            "\n",
            "0.5473965287049399\n"
          ],
          "name": "stdout"
        },
        {
          "output_type": "stream",
          "text": [
            "/usr/local/lib/python3.7/dist-packages/sklearn/metrics/_classification.py:1272: UndefinedMetricWarning: Precision and F-score are ill-defined and being set to 0.0 in labels with no predicted samples. Use `zero_division` parameter to control this behavior.\n",
            "  _warn_prf(average, modifier, msg_start, len(result))\n"
          ],
          "name": "stderr"
        }
      ]
    }
  ]
}